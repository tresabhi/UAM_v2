{
 "cells": [
  {
   "cell_type": "code",
   "execution_count": 2,
   "id": "9af0fb78",
   "metadata": {},
   "outputs": [],
   "source": [
    "import osmnx as ox \n",
    "import geopandas as gpd \n",
    "import pandas as pd \n",
    "import numpy as np \n",
    "from matplotlib import pyplot as plt "
   ]
  },
  {
   "cell_type": "code",
   "execution_count": 4,
   "id": "d50937eb",
   "metadata": {},
   "outputs": [
    {
     "data": {
      "text/plain": [
       "'2.0.2'"
      ]
     },
     "execution_count": 4,
     "metadata": {},
     "output_type": "execute_result"
    }
   ],
   "source": [
    "ox.__version__"
   ]
  }
 ],
 "metadata": {
  "kernelspec": {
   "display_name": "AAM",
   "language": "python",
   "name": "python3"
  },
  "language_info": {
   "codemirror_mode": {
    "name": "ipython",
    "version": 3
   },
   "file_extension": ".py",
   "mimetype": "text/x-python",
   "name": "python",
   "nbconvert_exporter": "python",
   "pygments_lexer": "ipython3",
   "version": "3.11.11"
  }
 },
 "nbformat": 4,
 "nbformat_minor": 5
}
