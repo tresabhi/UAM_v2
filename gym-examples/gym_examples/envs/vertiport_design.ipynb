{
 "cells": [
  {
   "cell_type": "code",
   "execution_count": null,
   "id": "a9bf288c",
   "metadata": {},
   "outputs": [],
   "source": [
    "# nodes in a netlist are components that need to be connected to other specific nodes \n",
    "# SIMILARLY - vertiports in a region need to be placed so that it can connect to another region, this stipulates on certain assumptions as follows -\n",
    "# 1) vertiport needs to be placed in a region that has demand,\n",
    "# 2) just like bus stops vertiports should be selected to meet demands and form loops  \n",
    "#  - this means we need to assume that - we have to place a certain vertiport in a certain region (requirement of design)\n",
    "\n",
    "# NOTE - on chip placement from netlist - chips from netlist are placed sequentially (why? is it possible to place the chips in parallel? why not parallel?)\n",
    "\n"
   ]
  },
  {
   "cell_type": "code",
   "execution_count": null,
   "id": "d641f079",
   "metadata": {},
   "outputs": [],
   "source": [
    "# MDP formulation \n",
    "\n",
    "# state space\n",
    "# chip placement                                        VS               vertiport \n",
    "# every possible partial placement of chip from netlist          (possible equivalent) every possible placement of a vertiport in a zone (assumption - map is discritized, and certain zones in map must have vertiport) \n",
    "\n",
    "\n",
    "\n",
    "# action space\n",
    "# chip placement                                                                        VS                              vertiport\n",
    "# set of all locations where current chip can be placed on the canvas without certain violations                set/region of location where a vertiport needs to be placed without violating RA \n",
    "\n",
    "\n",
    "# transition function \n",
    "\n",
    "# reward function \n",
    "# chip placement                                                                                    VS                              vertiport\n",
    "# zero for all action except last, negative weighted sum of proxy wire length, and congestion                           (similar idea) negative of distance between vertiports, and congestion\n",
    "#                                                                                                                                      1) How to measure congestion\n",
    "#                                                                                                                                      2) I think the negative distance is to balance the congestion\n",
    "#                                                                                                                                      3) ?? OTHER METRIC FOR REWARD ?? \n",
    "\n"
   ]
  },
  {
   "cell_type": "code",
   "execution_count": null,
   "id": "33a981b0",
   "metadata": {},
   "outputs": [],
   "source": [
    "# the vertiport design problem will start -\n",
    "# 1) empty map - and a list of vertiports that need to be placed in specific regions (assumption - WE know the region, but we do not know the exact location ) \n",
    "# 2) for vertiport design problem - FIRST, the vertiport_RL will place the vertiports, \n",
    "#                                   SECOND, after vertiports are placed, the REWARD of vertiport_RL will be calculated by running the simulator, after placing the last vertiport\n",
    "\n",
    "# POINTS to think about \n",
    "# 1) how many rows and columns for discritizing the map\n",
    "# 2) selection of vertiports (how do we decide which vertiports to start with)\n",
    "# 3) density - two vertiports cannot be within certain grid units of one another - for this a mask will be place on the grid, masking RA, and placed vertiport and region around vertiport\n",
    "#   "
   ]
  },
  {
   "cell_type": "code",
   "execution_count": null,
   "id": "e903b262",
   "metadata": {},
   "outputs": [],
   "source": [
    "# sound will be included in the vertiport design problem. \n"
   ]
  },
  {
   "cell_type": "markdown",
   "id": "055161b6",
   "metadata": {},
   "source": [
    "## Vertiport design problem \n",
    "\n",
    "\n",
    "Approaching the problem from aspects we know are true with high certainty \n",
    "\n",
    "\n",
    "1. A, action space is either add a vertiport at a location, or delete a vertiport from a location\n",
    "    - so action is clearly defined, either add or delete vertiport at location \n",
    "2. P(s'|s,a), the state transition is clear, its deterministic state transition, once all the vertiports are placed, then we will run simulation to collect statistics\n",
    "    - the transition from one state, a state is the current location of all vertiports and deterministic transition is vertiports in new location\n",
    "3. R(s,a,s'), the reward function \n",
    "    - EDGE attr: time_factor: time taken/nominal time, nominal time is the theoretical time it would take a UAV to reach its destination this theoretical time is distance/avg_speed\n",
    "    - EDGE attr: distance_factor: distance covered/ point to point distance\n",
    "    - EDGE attr: NMAC count\n",
    "    - EDGE attr: RA violation \n",
    "\n",
    "    INSPIRATION FROM QUEUEING THEORY (arrival rate, service rate,....) <- these would be the node attributes i can assume both these are following possion distributions, and the parameters of arrival are learned from data, \n",
    "    and the departure rate is assumed based on some heuristic. Then I can use these attributes as well in the reward function. \n",
    "\n",
    "    node features will be determined from queueing theory use almost all attributes from queing theory\n",
    "\n",
    "\n",
    "4. Update - \n",
    "    - GCN will help us update Node using edges\n",
    "    - GCN will help us update the edges using nodes\n",
    "    - applying either MAX or AVG pooling will provide us with complete overview of the network, and that vector can then be passed to the policy/value function of RL algo \n"
   ]
  },
  {
   "cell_type": "markdown",
   "id": "25bc8c4f",
   "metadata": {},
   "source": [
    "Thoughts on MCTS (Monte Carlo Tree Search)\n",
    "\n",
    "Needs discrete state and action space, if not discrete then needs to made discrete. \n",
    "Using this method will not be possible due to huge state space/ action space, since MCTS will try to sample untried actions before retrying actions that have been tried before. \n",
    "This will lead to really slow updates combined with running simulation to obtain statistics. Now MCTS requires some form of value for each node, this would mean \n",
    "I would have to define a function that would take these natural attributes and form a non-linear function, which may introduce bias.\n",
    "\n",
    "\n"
   ]
  },
  {
   "cell_type": "markdown",
   "id": "b7af3f2f",
   "metadata": {},
   "source": [
    "Three possible ways to solve the vertiport design problem - \n",
    "1) MCTS - \n",
    "\n",
    "First iteration of MCTS, start at vertiport, choose one waypoint or multiple waypoints, and from that waypoint(s) connect to end vertiport. \n",
    "Second iteration of MCTS, \n",
    "assumptions of this method,\n",
    "    1. vertiport locations on discrete address (commercial building, residential area, etc) - discrete locations will be selected from locations provided by OSMNX \n",
    "    2. A rectangular grid will be overlayed on top of austin map\n",
    "        - each grid point on the austin map is a possible waypoint \n",
    "        - the MCTS algo will choose a set of waypoints and build a route which will be handed to UAVs for motion \n",
    "        - for each route the following **metrics** will be calculated \n",
    "            - time_factor : sum over each subsection \n",
    "            - distance_factor : sum over each subsection \n",
    "            - NMAC count\n",
    "            - RA violation\n",
    "            - arrival rate\n",
    "            - service rate\n",
    "            - $\\sigma$\n",
    "    3. need to come up with heuristic for route selection \n",
    "        some possible heuristics:\n",
    "        - explore waypoints that are facing the end vertiports first, \n",
    "        - \n",
    "\n",
    "MCTS process - for MCTS a states are \n",
    "- vertiport pairs and the waypoint between them, and associated metrics described above\n",
    "- additional information that will be appended to each node (NODE in MCTS)  \n",
    "2) GNN - RL \n",
    "assumptions for this method, \n",
    "    1. edges of graph:\n",
    "        - EDGE attr: time_factor: time taken/nominal time, nominal time is the theoretical time it would take a UAV to reach its destination this theoretical time is distance/avg_speed\n",
    "        - EDGE attr: distance_factor: distance covered/ point to point distance\n",
    "        - EDGE attr: NMAC count\n",
    "        - EDGE attr: RA violation\n",
    "    2. nodes of the graph: \n",
    "        - arrival rate\n",
    "        - service rate\n",
    "\n",
    "with the above we can form a graph for GNN methods where a set of vertiports will be selected at random to start motion simulation. End of motion simulation we will calculate the values of nodes and edges. \n",
    "use these values and perform message passing to update the nodes and edges of graph. then perform pooling to aggregate the information in the graph into a vector. Then pass the vector to RL to choose new vertiports. \n",
    "Process will continue *up to 'convergence'*. \n",
    "\n",
    "\n"
   ]
  }
 ],
 "metadata": {
  "kernelspec": {
   "display_name": "AAM",
   "language": "python",
   "name": "python3"
  },
  "language_info": {
   "name": "python",
   "version": "3.11.11"
  }
 },
 "nbformat": 4,
 "nbformat_minor": 5
}
